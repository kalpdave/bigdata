{
  "nbformat": 4,
  "nbformat_minor": 0,
  "metadata": {
    "colab": {
      "provenance": [],
      "authorship_tag": "ABX9TyP1wrCioDJrZ4r8VCHszoB1",
      "include_colab_link": true
    },
    "kernelspec": {
      "name": "python3",
      "display_name": "Python 3"
    },
    "language_info": {
      "name": "python"
    }
  },
  "cells": [
    {
      "cell_type": "markdown",
      "metadata": {
        "id": "view-in-github",
        "colab_type": "text"
      },
      "source": [
        "<a href=\"https://colab.research.google.com/github/kalpdave/bigdata/blob/main/week_one.ipynb\" target=\"_parent\"><img src=\"https://colab.research.google.com/assets/colab-badge.svg\" alt=\"Open In Colab\"/></a>"
      ]
    },
    {
      "cell_type": "code",
      "source": [],
      "metadata": {
        "id": "XodVwrKfO13x"
      },
      "execution_count": null,
      "outputs": []
    },
    {
      "cell_type": "code",
      "execution_count": 16,
      "metadata": {
        "colab": {
          "base_uri": "https://localhost:8080/"
        },
        "id": "tl7Ezlp7GoIx",
        "outputId": "a751e977-b7e2-4b92-df4f-83620d485155"
      },
      "outputs": [
        {
          "output_type": "stream",
          "name": "stdout",
          "text": [
            "please enter you name: kalp\n",
            "you're name is kalp\n"
          ]
        }
      ],
      "source": [
        "\n",
        "name = input(\"please enter you name: \")\n",
        "print(f\"you're name is {name}\")"
      ]
    },
    {
      "cell_type": "code",
      "source": [],
      "metadata": {
        "id": "3GxbR7XRO8-Q"
      },
      "execution_count": null,
      "outputs": []
    },
    {
      "cell_type": "code",
      "execution_count": 17,
      "metadata": {
        "colab": {
          "base_uri": "https://localhost:8080/"
        },
        "outputId": "7cf9d83d-f415-4fdd-f25c-260ebb85f542",
        "id": "SxJS6ZFvO9Pj"
      },
      "outputs": [
        {
          "output_type": "stream",
          "name": "stdout",
          "text": [
            "enter a  value for yore radius2\n",
            "youre area is 12.566\n"
          ]
        }
      ],
      "source": [
        "\n",
        "radius = float(input( \"enter a  value for yore radius\")) # always remebr to add int or float for it the code to allow to do the calculation or values\n",
        "area = 3.1415*(radius)**2 #this is where the code does the calcualtion (** these are used instead of to the power(^))\n",
        "print (f\"youre area is {area}\") # the f help to identify the function in the words make sure to use {} these brackets\n",
        "\n"
      ]
    },
    {
      "cell_type": "code",
      "source": [],
      "metadata": {
        "id": "ht2-vA1gO-4o"
      },
      "execution_count": null,
      "outputs": []
    },
    {
      "cell_type": "code",
      "execution_count": 35,
      "metadata": {
        "colab": {
          "base_uri": "https://localhost:8080/"
        },
        "outputId": "56184af9-96a5-439f-b434-4eab15e61768",
        "id": "MR_-xN2OO_fL"
      },
      "outputs": [
        {
          "output_type": "stream",
          "name": "stdout",
          "text": [
            "input youre grade here:100\n",
            "you're grade is A\n"
          ]
        }
      ],
      "source": [
        "# (=) is and aassignment (==) is used for comparison\n",
        "\n",
        "grade= int(input(\"input youre grade here:\"))\n",
        "\n",
        "if 90<= grade <=100:\n",
        "  print(\"you're grade is A\")\n",
        "elif 80<= grade <=89:\n",
        "  print(\"youre grade is B\")\n",
        "elif 70<= grade <= 79:\n",
        "  print (\"youre grade is C\")\n",
        "elif 60<= grade <=69:\n",
        "  print(\"youre grade is D\")\n",
        "else:\n",
        "\n",
        "  print(\"youre grade is F\")"
      ]
    },
    {
      "cell_type": "code",
      "source": [
        "age = int(input(\"enter you're age:\"))\n",
        "\n",
        "if age < 12: #ag is below this number the price will be 5\n",
        "  price = 5\n",
        "elif age >= 65: #if age is between 12 and 65 price is 7\n",
        "  price = 7\n",
        "else:\n",
        "  student = input(\"are you a student enter (yes/no)\") #for the ges 1 to 65 ask if student\n",
        "\n",
        "  if student == \"yes\": #if yes price is 8\n",
        "      price = 8\n",
        "  else: #if not price is 10\n",
        "      price = 10\n",
        "\n",
        "print(f\"ticket price: £{price}\") #print the price of the ticket\n",
        "\n",
        "\n"
      ],
      "metadata": {
        "colab": {
          "base_uri": "https://localhost:8080/"
        },
        "id": "G6bqfCT7Q85_",
        "outputId": "002f80b8-f1d7-4181-ce14-2e1e76572ffa"
      },
      "execution_count": 42,
      "outputs": [
        {
          "output_type": "stream",
          "name": "stdout",
          "text": [
            "enter you're age:70\n",
            "ticket price: £7\n"
          ]
        }
      ]
    }
  ]
}