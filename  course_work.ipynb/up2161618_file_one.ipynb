{
 "cells": [
  {
   "cell_type": "code",
   "execution_count": 103,
   "metadata": {},
   "outputs": [],
   "source": [
    "import PIL \n",
    "import urllib\n",
    "import numpy as np\n",
    "import pandas as pd\n",
    "import plotly.express as px\n",
    "import matplotlib\n",
    "import matplotlib.pyplot as plt\n",
    "import seaborn as sns \n",
    "#this is to import all the files before you start wokring on it "
   ]
  },
  {
   "cell_type": "code",
   "execution_count": 104,
   "metadata": {},
   "outputs": [
    {
     "name": "stdout",
     "output_type": "stream",
     "text": [
      "5 is a prime number\n"
     ]
    }
   ],
   "source": [
    "#Question 1\n",
    "\n",
    "number = int(input(\"Enter a number:\")) \n",
    "#This asks the user to enter a number.\n",
    "\n",
    "\n",
    "if number < 2: \n",
    "    #this checks if the number is less than 2\n",
    "\n",
    "    print(f\"{number} is not a prime number.\") \n",
    "    #if it's less than 2 then it prints the number is not a prime number\n",
    "\n",
    "else:\n",
    "\n",
    "    for a in range(2,int(number**0.5) + 1): \n",
    "        #the code loops through the number 2 and the square root of the value we \n",
    "        #entred plus one\n",
    "\n",
    "        if number % a == 0:\n",
    "            #this checks if the number is dividable by the ranges of value in a its not a prime number\n",
    "            #and hence prints it \n",
    "\n",
    "            print(f\"{number} is not a prime number\")\n",
    "\n",
    "            break #the break stops the loop and finding a value if a factor is found.\n",
    "    else: #hence if the condition is not meet it print the value as a prime below\n",
    "        print(f\"{number} is a prime number\")\n"
   ]
  },
  {
   "cell_type": "code",
   "execution_count": null,
   "metadata": {},
   "outputs": [],
   "source": []
  },
  {
   "cell_type": "code",
   "execution_count": 105,
   "metadata": {},
   "outputs": [
    {
     "name": "stdout",
     "output_type": "stream",
     "text": [
      "* * * * * \n",
      "* * * * \n",
      "* * * \n",
      "* * \n",
      "* \n"
     ]
    }
   ],
   "source": [
    "# Question 3\n",
    "n =5 \n",
    "\n",
    "for i in range(n ,0,-1): \n",
    "# this loops the values from 5 to 1 deacreasing by 1  \n",
    "\n",
    "    for j in range(i): \n",
    "    #this is to control number printed in each row\n",
    "\n",
    "        print('*',end=' ') \n",
    "        #prints * without a new line \n",
    "\n",
    "    print() #this is used to print the next line after each row\n"
   ]
  },
  {
   "cell_type": "code",
   "execution_count": 106,
   "metadata": {},
   "outputs": [
    {
     "name": "stdout",
     "output_type": "stream",
     "text": [
      "this is the reversed string:  423\n"
     ]
    }
   ],
   "source": [
    "# Question 4\n",
    "def reversed_string(): #this is used to define the function \n",
    "\n",
    "    reversed_string= input(\"user enter a string: \")[::-1]\n",
    "     # the -1 at the end, reverses the string using slicing \n",
    "\n",
    "    print (f\"this is the reversed string: \",reversed_string) \n",
    "    #this displays the text and then the string the user entred in reverse \n",
    "\n",
    "reversed_string() # this is to call the function "
   ]
  },
  {
   "cell_type": "code",
   "execution_count": null,
   "metadata": {},
   "outputs": [
    {
     "name": "stdout",
     "output_type": "stream",
     "text": [
      "The minimum value in the list is: 2.0\n",
      "The maximum value in the list is: 250.0\n"
     ]
    }
   ],
   "source": [
    "# Question 5\n",
    "def finding_values(numbers):\n",
    "    #this is used to define the function for finding values in...\n",
    "    #...list \"numbers\"\n",
    "\n",
    "    values=np.array(numbers) \n",
    "    #this converts the iterable values to numpy array\n",
    "\n",
    "    return np.min(values), np.max(values)\n",
    "#this finds the minimum and maxiumum value in the array using numpy\n",
    "\n",
    "numbers=(2,4,53,23,43,500/2,24.65) # these are the values\n",
    "minimum, maximum = finding_values(numbers)\n",
    "#here we remove the values we need using the function\n",
    "\n",
    "print(f\"The minimum value in the list is: {minimum}\")\n",
    "#this prints the minimum value\n",
    "\n",
    "print(f\"The maximum value in the list is: {maximum}\")\n",
    "# this prints the maximum value"
   ]
  },
  {
   "cell_type": "code",
   "execution_count": null,
   "metadata": {},
   "outputs": [],
   "source": [
    "# Question 6\n"
   ]
  }
 ],
 "metadata": {
  "kernelspec": {
   "display_name": "Python 3",
   "language": "python",
   "name": "python3"
  },
  "language_info": {
   "codemirror_mode": {
    "name": "ipython",
    "version": 3
   },
   "file_extension": ".py",
   "mimetype": "text/x-python",
   "name": "python",
   "nbconvert_exporter": "python",
   "pygments_lexer": "ipython3",
   "version": "3.12.1"
  }
 },
 "nbformat": 4,
 "nbformat_minor": 2
}
