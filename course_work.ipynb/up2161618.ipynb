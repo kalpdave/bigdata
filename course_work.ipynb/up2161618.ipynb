{
 "cells": [
  {
   "cell_type": "markdown",
   "metadata": {},
   "source": [
    "# Portfolio part 1\n",
    "the files below are all the libraries that are used in the\n",
    "codes below for each question please run these libraries to \n",
    "get all the required outputs"
   ]
  },
  {
   "cell_type": "code",
   "execution_count": 2,
   "metadata": {},
   "outputs": [],
   "source": [
    "import PIL \n",
    "import urllib\n",
    "import numpy as np\n",
    "import pandas as pd\n",
    "import plotly.express as px\n",
    "import matplotlib\n",
    "import matplotlib.pyplot as plt\n",
    "import seaborn as sns \n",
    "import random\n",
    "import math\n",
    "#this is to import all the files before you start wokring on it "
   ]
  },
  {
   "cell_type": "markdown",
   "metadata": {},
   "source": [
    "## Question 1   \n",
    "Code that determines whether a number entered by the user is prime.  \n",
    "The user is prompted to enter a **positive whole number**.  \n",
    "*  makes sure the input is **greater than 0** by validating it.  \n",
    "*  Verifies that `2` is divisible by `number // 2`.  \n",
    "*  It is **prime** otherwise, and **not prime** if divisible. "
   ]
  },
  {
   "cell_type": "code",
   "execution_count": 3,
   "metadata": {},
   "outputs": [
    {
     "name": "stdout",
     "output_type": "stream",
     "text": [
      "1 is not a prime number.\n"
     ]
    }
   ],
   "source": [
    "#Question 1\n",
    "\n",
    "def prime(): \n",
    "#this function is for the user to enter a whole number that is positve \n",
    "    while True:\n",
    "    #this asks the user to keep on asking until a valid number is typed\n",
    "        try:\n",
    "            number = int(input(\"Enter a number:\")) \n",
    "            #This asks the user to enter a number.\n",
    "\n",
    "            if number<= 0:\n",
    "                print (\"please enter a postive number\")\n",
    "            #if the value is less than 0 then it tells the user to..\n",
    "            #..type a full value\n",
    "\n",
    "            else:\n",
    "                break #this is to exit the loop \n",
    "\n",
    "        except ValueError: \n",
    "        #when a integer is entred the value error pops up..\n",
    "        #..this tells the user to enter a whole number when this occurs.\n",
    "            print(\"this value is invalid. Please entre a whole number.\")\n",
    "                    \n",
    "    if number < 2: \n",
    "    #this checks if the number is less than 2 as values below 2 are not prime numbers\n",
    "        \n",
    "        print(f\"{number} is not a prime number.\") \n",
    "    #if it's less than 2 then it prints the number is not a prime number\n",
    "    \n",
    "    else:\n",
    "        for x in range(2,int(number//2) + 1): \n",
    "        #the code loops through the number 2 and till half of the value of the number\n",
    "        \n",
    "         if (number % x) == 0:\n",
    "            #this checks if the number is dividable by the ranges of value.. \n",
    "            #..in a its not a prime number and hence prints it \n",
    "\n",
    "            print(f\"{number} is not a prime number\")\n",
    "\n",
    "            return \n",
    "            #the return stops the loop and finding a value if a factor is found.\n",
    "          #hence if the condition is not meet it print the value as a prime below\n",
    "        print(f\"{number} is a prime number\")\n",
    "\n",
    "prime()#this is to call the function that we defined at the start."
   ]
  },
  {
   "cell_type": "markdown",
   "metadata": {},
   "source": [
    "## Question 2 \n",
    "A Python function that, given a user-specified number of words, produces a Fibonacci sequence.  \n",
    "* Requests a **positive whole number** from the user.  \n",
    "* makes sure the input is **greater than 0** by validating it.  \n",
    "* Generates the Fibonacci sequence** via a **loop.  \n",
    "* The first `N` Fibonacci numbers are returned. "
   ]
  },
  {
   "cell_type": "code",
   "execution_count": 4,
   "metadata": {},
   "outputs": [
    {
     "data": {
      "text/plain": [
       "[0, 1]"
      ]
     },
     "execution_count": 4,
     "metadata": {},
     "output_type": "execute_result"
    }
   ],
   "source": [
    "# Question 2 \n",
    "def fibonnaci_sequence():\n",
    "#this function is for the user to enter a whole number that is positve.\n",
    "\n",
    "    while True:\n",
    "    #this asks the user to enter a value till it statifys the function\n",
    "        try:\n",
    "\n",
    "            number = int(input(\"enter a postive value for the displayed sequence: \"))\n",
    "            #this asks the user ti type in a value\n",
    "            \n",
    "            if number <= 0:\n",
    "                print(\"please enter a postive whole number\")\n",
    "                #if the value is less than 0 it asks the user to use a whole postive value\n",
    "            else:\n",
    "                break\n",
    "            #this is to exit the loop \n",
    "\n",
    "        except  ValueError:\n",
    "            print(\"please enter a whole number\")\n",
    "            #whenever the user places an non-integer a value error pops up,\n",
    "            #this is used to tell the user to enter a whole number\n",
    "\n",
    "    sequence = [0,1]\n",
    "    #this is used to generate the list with the first two\n",
    "    #fibonacci numbers\n",
    "\n",
    "    for value in range (number - 2): \n",
    "    #this is for the the number entred and its range of ..\n",
    "    #..values \n",
    "        \n",
    "        sequence.append(sequence[-1]+sequence[-2])\n",
    "        #this is the fibonacci sequence formula \n",
    "\n",
    "    return sequence [:number]\n",
    "\n",
    "fibonnaci_sequence()\n",
    "#calls the function back"
   ]
  },
  {
   "cell_type": "markdown",
   "metadata": {},
   "source": [
    "## Question 3\n",
    "Prints the pattern (decreasing triangle)"
   ]
  },
  {
   "cell_type": "code",
   "execution_count": 5,
   "metadata": {},
   "outputs": [
    {
     "name": "stdout",
     "output_type": "stream",
     "text": [
      "* * * * * \n",
      "* * * * \n",
      "* * * \n",
      "* * \n",
      "* \n"
     ]
    }
   ],
   "source": [
    "# Question 3\n",
    "n =5 \n",
    "\n",
    "for i in range(n ,0,-1): \n",
    "#this loops the values from 5 to 1 deacreasing by 1  \n",
    "\n",
    "    for j in range(i): \n",
    "    #this is to control number printed in each row\n",
    "\n",
    "        print('*',end=' ') \n",
    "        #prints * without a new line \n",
    "\n",
    "    print() \n",
    "    #this is used to print the next line after each row\n"
   ]
  },
  {
   "cell_type": "markdown",
   "metadata": {},
   "source": [
    "## Question 4\n",
    "This function takes user input and prints it in reverse using string slicing.  "
   ]
  },
  {
   "cell_type": "code",
   "execution_count": 6,
   "metadata": {},
   "outputs": [
    {
     "name": "stdout",
     "output_type": "stream",
     "text": [
      "this is the reversed string:  32\n"
     ]
    }
   ],
   "source": [
    "# Question 4\n",
    "def reversed_input(): \n",
    "#this is used to define the function \n",
    "\n",
    "    reversed_input = input(\"user enter a string: \")[::-1]\n",
    "    #the -1 at the end, reverses the string using slicing \n",
    "\n",
    "    print (f\"this is the reversed string: \",reversed_input) \n",
    "    #this displays the text and then the string the user entred in reverse \n",
    "\n",
    "reversed_input() # this is to call the function "
   ]
  },
  {
   "cell_type": "markdown",
   "metadata": {},
   "source": [
    "## Question 5\n",
    "This function returns the **minimum** and **maximum** values after converting a list to a NumPy array."
   ]
  },
  {
   "cell_type": "code",
   "execution_count": 7,
   "metadata": {},
   "outputs": [
    {
     "name": "stdout",
     "output_type": "stream",
     "text": [
      "The minimum value in the list is: 2.0\n",
      "The maximum value in the list is: 250.0\n"
     ]
    }
   ],
   "source": [
    "# Question 5\n",
    "def finding_values(numbers):\n",
    "#this is used to define the function for finding values in..\n",
    "#..list \"numbers\"\n",
    "\n",
    "    values=np.array(numbers) \n",
    "    #this converts the iterable values to numpy array\n",
    "\n",
    "    return np.min(values), np.max(values)\n",
    "#this finds the minimum and maxiumum value in the array using numpy\n",
    "\n",
    "numbers=(2,4,53,23,43,500/2,24.65) # these are the values\n",
    "minimum, maximum = finding_values(numbers)\n",
    "#here we remove the values we need using the function\n",
    "\n",
    "print(f\"The minimum value in the list is: {minimum}\")\n",
    "#this prints the minimum value\n",
    "\n",
    "print(f\"The maximum value in the list is: {maximum}\")\n",
    "# this prints the maximum value"
   ]
  },
  {
   "cell_type": "markdown",
   "metadata": {},
   "source": [
    "## Question 6\n",
    "This function generates **a random number between 1 and 10** and prompts the user to guess it.  \n",
    "* Indicates whether the guess is too high or too low by giving **hints**.  \n",
    "* keeps asking until the right number is guessed using a **loop**.  \n",
    "* Deals with every **invalid input**. "
   ]
  },
  {
   "cell_type": "code",
   "execution_count": 8,
   "metadata": {},
   "outputs": [
    {
     "name": "stdout",
     "output_type": "stream",
     "text": [
      "enter a whole value in the range of 1 to 10\n",
      "Too high! Try again\n",
      "Too low! Try again\n",
      "Too low! Try again\n",
      "Too low! Try again\n",
      "Too low! Try again\n",
      "Too low! Try again\n",
      "Too low! Try again\n",
      "Too low! Try again\n",
      "Too high! Try again\n",
      "Too high! Try again\n",
      "This is the correct value you win!!\n"
     ]
    }
   ],
   "source": [
    "# Question 6\n",
    "\n",
    "def find_the_number():\n",
    "# this is to define a function named find_the_number\n",
    "\n",
    "    ran_numb = random.randint(1,10)\n",
    "    #this is used to generate a random value between 1 and 10\n",
    "    print(\"enter a whole value in the range of 1 to 10\")\n",
    "\n",
    "    while True:\n",
    "    #this code creates an infinite loop that keeps running until\n",
    "    #the correct number is guessed\n",
    "        try:\n",
    "            value = int(input(\"enter your value: \"))# ask for user input\n",
    "            \n",
    "            if value== ran_numb:\n",
    "            #if the value entred is the same generated random number\n",
    "            #the message below in the print is generated \n",
    "                print (\"This is the correct value you win!!\")\n",
    "\n",
    "                break\n",
    "            #this is to exit the loop if the number is found\n",
    "            \n",
    "            elif value>ran_numb:\n",
    "            #if the value entered is greater than the random value \n",
    "            #the message below is generated \n",
    "                print(\"Too high! Try again\")\n",
    "                \n",
    "            elif value<ran_numb:\n",
    "            #vice varce if the number is higher then the value\n",
    "            #the message below is generated\n",
    "                print(\"Too low! Try again\")\n",
    "            \n",
    "        except ValueError:\n",
    "        #if a wrong value has been inputed the error pops up\n",
    "        #when that happens it prints the message below\n",
    "            print(\"please enter a valid input value\")\n",
    "        \n",
    "find_the_number()\n",
    "#this calls back the fucntion\n",
    "\n",
    "\n"
   ]
  },
  {
   "cell_type": "markdown",
   "metadata": {},
   "source": [
    "## Question 7\n",
    "The user is repeatedly prompted by this application to input a **correct password** (`Bigdata2025`).\n"
   ]
  },
  {
   "cell_type": "code",
   "execution_count": 9,
   "metadata": {},
   "outputs": [
    {
     "name": "stdout",
     "output_type": "stream",
     "text": [
      "incorrect password!\n",
      "Access Granted!\n"
     ]
    }
   ],
   "source": [
    "#Question 7\n",
    "\n",
    "password=\"Bigdata2025\"\n",
    "#this creates a password as bigdata2025 which the user must enter to gain access\n",
    "\n",
    "while True:\n",
    "#this code creates a loop for until true runs forever\n",
    "\n",
    "    input_password = input(\"please enter the password:\")\n",
    "    #this asks the user for an input\n",
    "\n",
    "    if input_password == password:\n",
    "    #if the user enters the correct password the message below is printed\n",
    "        print(\"Access Granted!\")\n",
    "        break\n",
    "    #and the loop is exited.\n",
    "\n",
    "    else:\n",
    "        print(\"incorrect password!\")\n",
    "    #until then even if the passoword is incorrect the message above is printed\n",
    "\n",
    "\n"
   ]
  },
  {
   "cell_type": "markdown",
   "metadata": {},
   "source": [
    "## Question 8\n",
    "This function calculates a **custom mathematical series** based on user inputs `X` and `N`.  \n",
    "* The sum of terms is calculated using a **loop**.  \n",
    "* Applies **factorials** and exponentiation in calculations.\n",
    "* Gives back the series' **final sum**. "
   ]
  },
  {
   "cell_type": "code",
   "execution_count": 10,
   "metadata": {},
   "outputs": [
    {
     "name": "stdout",
     "output_type": "stream",
     "text": [
      "\n",
      "Final Sum of the series: 172.92\n"
     ]
    }
   ],
   "source": [
    "#Question 8\n",
    "N = int(input(\"Please enter a value for N: \"))\n",
    "X = float(input(\"please enter a value for X: \"))\n",
    "#these above ask the user for 2 inputs for the value of X and N\n",
    "\n",
    "def series(X,N):\n",
    "#There after a function is created with 2 parameters X and N\n",
    "\n",
    "    initial = 0 #this stores the sum of the series \n",
    "    a1= 5 #this is the first value\n",
    "    a2 = 1 #this is the second value\n",
    "    a3 = 2 #this is the third value\n",
    "\n",
    "    for n in range(1, N + 1):\n",
    "    #this runs a loop from 1 to N\n",
    "    \n",
    "        top =  (X*(a1**2)) #this is the top of the function\n",
    "\n",
    "        bottom = (a2) + math.factorial(a3) #this is the bottom of the function\n",
    "        #where the math.factorial calculates the factorial of a3\n",
    "\n",
    "        term = top/bottom\n",
    "        #this is the finalised equation \n",
    "\n",
    "        initial += term\n",
    "        #a term is added to initial which keeps track of the running total\n",
    "\n",
    "        a1 *=5 #multipys a1 by 5 each time\n",
    "        a2 += 1 #increases a2 by 1 each increment\n",
    "        a3 += 1 #increases a3 to the next interger\n",
    "    return initial #this returns the fucntion\n",
    "\n",
    "result = series(X,N)\n",
    "#the return value is stored as result\n",
    "print(f\"\\nFinal Sum of the series: {result:.2f}\")"
   ]
  },
  {
   "cell_type": "markdown",
   "metadata": {},
   "source": [
    "## Question 9\n",
    "Loads an image (your choice) into a NumPy array and generates both a horizontal and vertical mirror reflection copies of it."
   ]
  },
  {
   "cell_type": "code",
   "execution_count": 11,
   "metadata": {},
   "outputs": [
    {
     "data": {
      "image/png": "[encoded data removed]",
      "text/plain": [
       "<Figure size 500x400 with 3 Axes>"
      ]
     },
     "metadata": {},
     "output_type": "display_data"
    }
   ],
   "source": [
    "#Question 9\n",
    "\n",
    "image_url = \"https://nexpbr.com/wp-content/uploads/2022/05/Anime-Blue-Lock-2022.jpg\"\n",
    "#this is a string containing the URL of the image\n",
    "image_data = urllib.request.urlopen(image_url)\n",
    "#this function fethces the image from the URL\n",
    "\n",
    "image = PIL.Image.open(image_data) \n",
    "#this uses PIL to open the image\n",
    "\n",
    "main_image=np.array(image)\n",
    "#converts the image to np array \n",
    "\n",
    "flip = np.fliplr(main_image)\n",
    "#this flips the orignal image\n",
    "\n",
    "mirror = np.flipud(main_image)\n",
    "#this mirrors the image \n",
    "\n",
    "fig, axes = plt.subplots(3, 1, figsize=(5, 4))\n",
    "# this creates a matlpot figure with 3 rows and 1 coloum\n",
    "#with the size 5 width and 4 height of the figure\n",
    "\n",
    "plt.subplots_adjust(hspace=0.5)\n",
    "#this creates space in-between each image\n",
    "axes[0].imshow(main_image)\n",
    "axes[0].set_title('Original Image')\n",
    "axes[0].axis('off')\n",
    "#this is the original image with a set title orignal image\n",
    "#and the axis turened off\n",
    "\n",
    "axes[1].imshow(mirror)\n",
    "axes[1].set_title('Vertical Mirror')\n",
    "axes[1].axis('off')\n",
    "#this is used to show the mirrored image with the title of veritcal mirror \n",
    "#ad the axis turned off\n",
    "\n",
    "axes[2].imshow(flip)\n",
    "axes[2].set_title('Horizontal Mirror')\n",
    "axes[2].axis('off')\n",
    "#this is used to show the flip image with the title of horizontal mirror \n",
    "#ad the axis turned off\n",
    "\n",
    "plt.show()\n",
    "#displays the final figure with all three images"
   ]
  },
  {
   "cell_type": "markdown",
   "metadata": {},
   "source": [
    "## Question 10\n",
    "**30 days of data** is analyzed using NumPy: \n",
    "* Average, maximum, and minimum temperatures are Converts to Fahrenheit  \n",
    "* Identifies days with temperatures above 25°C and below 20°C. \n",
    "* Sorts and reshapes into a **5×6 grid**  "
   ]
  },
  {
   "cell_type": "code",
   "execution_count": 12,
   "metadata": {},
   "outputs": [
    {
     "name": "stdout",
     "output_type": "stream",
     "text": [
      "Min temperature is: 18 °C\n",
      "Max temperature is: 30 °C\n",
      "Average temperature is: 23.13 °C\n",
      "\n",
      "New set from celicus to fahrenheit: [71.6,75.2,66.2,69.8,73.4,77.,78.8,80.6,75.2,73.4,68.,71.6,69.8,66.2,\n",
      "64.4,71.6,73.4,75.2,78.8,82.4,86.,80.6,77.,78.8,75.2,71.6,69.8,68.,\n",
      "66.2,73.4]\n",
      "\n",
      "Days where tempereature were higher than 25: days[ 7  8 19 20 21 22 24]\n",
      "\n",
      "Number of days below 20: 4\n",
      "\n",
      "This is the data in asending order: [18 19 19 19 20 20 21 21 21 22 22 22 22 23 23 23 23 24 24 24 24 25 25 26\n",
      " 26 26 27 27 28 30]\n",
      "\n",
      "This is the data set in 5 weeks to 6 days a week:[[22 24 19 21 23 25]\n",
      " [26 27 24 23 20 22]\n",
      " [21 19 18 22 23 24]\n",
      " [26 28 30 27 25 26]\n",
      " [24 22 21 20 19 23]]\n",
      "\n"
     ]
    }
   ],
   "source": [
    "#Question 10\n",
    "dataset = [22,24,19,21,23,25,26,27,24,23,20,22,21,19,18,22,23,24,26,28,30,27,25,26,24,22,21,20,19,23]\n",
    "#this contains a list of 30 temperatures values recoreded over 30 days\n",
    "\n",
    "numpy_dataset = np.array(dataset)\n",
    "#converts the list to numpy array for faster run time\n",
    "\n",
    "min=np.min(dataset) #finds the lowest temperature\n",
    "max=np.max(dataset) #finds the highest temperature\n",
    "average=np.average(dataset) #finds the average temprature\n",
    "#and the prints them below using the print function\n",
    "print(f\"Min temperature is: {min} °C\")\n",
    "print(f\"Max temperature is: {max} °C\")\n",
    "print(f\"Average temperature is: {average:.2f} °C\\n\")\n",
    "#the .2f is used to use the value to 2 significant figures\n",
    "\n",
    "converting_to_fahrenheit = (((numpy_dataset * 9)/5)+32)\n",
    "#this is the formula used to convert celcius to fahrenheit\n",
    "fahrenheit = np.array2string(converting_to_fahrenheit, separator= ',').replace(' ','')\n",
    "#.replace is to ensure no spaces remian in the output\n",
    "#this code converts the numpy string to a foramtted string\n",
    "print(f\"New set from celicus to fahrenheit: {fahrenheit}\\n\")\n",
    "\n",
    "\n",
    "higher_25 = np.where(numpy_dataset>25)[0]+1\n",
    "#returns the indices of tempraures which are higher than 25 degrees celcius\n",
    "#the +1 shows us the real world days as pyton starts from 0\n",
    "print(f\"Days where tempereature were higher than 25: days{higher_25}\\n\")\n",
    "\n",
    "below_20 = np.sum(numpy_dataset<20)\n",
    "#the sum counts the true values where the days were less than \n",
    "#20 degrees celcius\n",
    "print(f\"Number of days below 20: {below_20}\\n\")\n",
    "\n",
    "asending= np.sort(dataset)\n",
    "#this is used to sort the list of temperatures\n",
    "#from lowest to highest\n",
    "print(f\"This is the data in asending order: {asending}\\n\")\n",
    "\n",
    "reshaping = numpy_dataset.reshape(5,6)\n",
    "#this converts the 30 day values to a 5x6 table\n",
    "print(f\"This is the data set in 5 weeks to 6 days a week:{reshaping}\\n\")\n",
    "\n",
    "#the '/n' is used to space the values below"
   ]
  }
 ],
 "metadata": {
  "kernelspec": {
   "display_name": "Python 3",
   "language": "python",
   "name": "python3"
  },
  "language_info": {
   "codemirror_mode": {
    "name": "ipython",
    "version": 3
   },
   "file_extension": ".py",
   "mimetype": "text/x-python",
   "name": "python",
   "nbconvert_exporter": "python",
   "pygments_lexer": "ipython3",
   "version": "3.12.1"
  }
 },
 "nbformat": 4,
 "nbformat_minor": 2
}
